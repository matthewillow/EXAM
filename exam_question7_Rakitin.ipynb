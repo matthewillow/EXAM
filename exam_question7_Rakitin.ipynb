{
 "cells": [
  {
   "cell_type": "markdown",
   "metadata": {},
   "source": [
    "# Вопрос по выбору к экзамену по вычислительной физике"
   ]
  },
  {
   "cell_type": "markdown",
   "metadata": {},
   "source": [
    "## Вопрос 7\n",
    "Рассмотрим частицу в одномерной прямоугольной яме ширины $a$. Добавим потенциал вида $V_{0}x(x − a)$. Найти уровни энергии и волновые функции, используя в качестве невозмущенного базиса состояния частицы в прямоугольной яме при $V_{0} = 0$. Сравнить с результатами теории возмущений.\n"
   ]
  },
  {
   "cell_type": "markdown",
   "metadata": {},
   "source": [
    "Для начала рассмотрим задачу теоретически. Частица в нулевом приближении находится в следующем потенциале:\n",
    "$$\\hat{U}(x) = \\begin{cases}\n",
    "0, \\ x\\in(0,a)\\\\\n",
    "\\infty, \\ x\\notin(0,a)\n",
    "\\end{cases}$$\n",
    "Тогда гамильтониан на отоезке $(0,a)$ записывается следующим образом:\n",
    "$$\\hat{H}_{0} = \\frac{p^{2}}{2m} = -\\frac{\\hbar^{2}}{2m}\\frac{\\partial^{2}}{\\partial x^{2}}$$\n",
    "Тогда можно записать уравнение Шрёдингера для нулевого приблежения $\\left|\\psi^{(0)}_{n}(x)\\right>$:\n",
    "$$\\begin{cases}-\\frac{\\hbar^{2}}{2m}\\frac{\\partial^{2}\\psi^{(0)}_{n}(x)}{\\partial x^{2}} = E_{n}^{(0)}\\psi^{(0)}_{n}(x)\\\\ \\psi^{(0)}_{n}(0) = 0\\\\\n",
    "\\psi^{(0)}_{n}(a) = 0\\end{cases}$$\n",
    "$$\\frac{\\partial^{2}\\psi^{(0)}_{n}(x)}{\\partial x^{2}} + \\frac{2m E_{n}^{(0)}}{\\hbar^{2}}\\psi^{(0)}_{n}(x) = 0$$\n",
    "$$\\psi^{(0)}_{n}(x) = A\\sin\\left(\\frac{\\sqrt{2m E_{n}^{(0)}}}{\\hbar}x\\right) + B\\cos\\left(\\frac{\\sqrt{2m E_{n}^{(0)}}}{\\hbar}x\\right)$$\n",
    "$$\\psi^{(0)}_{n}(0) = 0 \\Longrightarrow B = 0$$\n",
    "$$\\psi^{(0)}_{n}(a) = 0 \\Longrightarrow A\\sin\\left(\\frac{\\sqrt{2m E_{n}^{(0)}}}{\\hbar}a\\right) = 0 \\Longrightarrow \\frac{a\\sqrt{2m E_{n}^{(0)}}}{\\hbar} = \\pi n$$\n",
    "Тогда \n",
    "$$\\boxed{ E_{n}^{(0)} = \\frac{\\hbar^{2} \\pi^{2} n^{2}}{2 m a^{2}} }$$\n",
    "$$\\psi_{n}^{(0)}(x) = \\begin{cases} A\\sin\\left(\\frac{\\pi n x}{a}\\right), \\ x\\notin(0,a)\\\\\n",
    "0, x\\in(0,a)\\end{cases}$$\n",
    "Нормируя найдём $A$:\n",
    "$$\\int\\limits_{-\\infty}^{+\\infty}\\left(\\psi_{n}^{(0)}(x)\\right)^{2}\\mathrm{d}x = \\int\\limits_{0}^{a}\\left(A\\sin\\left(\\frac{\\pi n x}{a}\\right)\\right)^{2}\\mathrm{d}x = \\frac{A^{2}a}{2} = 1 \\Longrightarrow  A = \\sqrt{\\frac{2}{a}}$$\n",
    "$$\\boxed{\\psi_{n}^{(0)}(x) = \\begin{cases} \\sqrt{\\frac{2}{a}}\\sin\\left(\\frac{\\pi n x}{a}\\right), \\ x\\in(0,a)\\\\\n",
    "0, x\\notin(0,a)\\end{cases}}$$"
   ]
  },
  {
   "cell_type": "markdown",
   "metadata": {},
   "source": [
    "Добавим к гамильтониану $\\hat{H}_{0}$ поправку $\\hat{\\mathcal{V}}(x) = V_{0}x(x - a)$.\n",
    "\\begin{multline}\n",
    "V_{nm} = \\left<\\psi_{n}^{(0)}(x)\\right|\\hat{\\mathcal{V}}(x)\\left|\\psi_{m}^{(0)}(x)\\right> = \\int\\limits_{-\\infty}^{+\\infty}\\psi_{n}^{(0)}(x)\\hat{\\mathcal{V}}\\psi_{m}^{(0)}(x)\\mathrm{d}x = \\int\\limits_{0}^{a}\\sqrt{\\frac{2}{a}}\\sin\\left(\\frac{\\pi n x}{a}\\right)V_{0}x(x - a)\\sqrt{\\frac{2}{a}}\\sin\\left(\\frac{\\pi m x}{a}\\right)\\mathrm{d}x = \\\\ = \\frac{2V_{0}}{a} \\int\\limits_{0}^{a}x(x - a)\\sin\\left(\\frac{\\pi n x}{a}\\right)\\sin\\left(\\frac{\\pi m x}{a}\\right)\\mathrm{d}x = 2a^{2}V_{0}\\int\\limits_{0}^{a}\\frac{x}{a}\\left(\\frac{x}{a} - 1\\right)\\sin\\left(\\frac{\\pi n x}{a}\\right)\\sin\\left(\\frac{\\pi m x}{a}\\right)\\mathrm{d}\\left(\\frac{x}{a}\\right) = \\\\ =2a^{2}V_{0}\\int\\limits_{0}^{1}\\xi\\left(\\xi - 1\\right)\\sin\\left(\\pi n \\xi\\right)\\sin\\left(\\pi m \\xi \\right)\\mathrm{d}\\xi\n",
    "\\end{multline}\n",
    "$$E_{n}^{(1)} = V_{nn} = 2a^{2}V_{0}\\int\\limits_{0}^{1}\\xi\\left(\\xi - 1\\right)\\left(\\sin\\left(\\pi n \\xi\\right)\\right)^{2}\\mathrm{d}\\xi = 2a^{2}V_{0} \\left(- \\frac{1}{12} - \\frac{1}{(2\\pi n)^{2}}\\right) = -\\frac{a^{2}\\left(\\pi^{2}n^{2} + 3\\right)V_{0}}{6\\pi^{2}n^{2}}$$\n",
    "$$\\boxed{E_{n}\\approx E_{n}^{(0)} + E_{n}^{(1)} = \\frac{\\hbar^{2} \\pi^{2} n^{2}}{2 m a^{2}} -\\frac{a^{2}\\left(\\pi^{2}n^{2} + 3\\right)V_{0}}{6\\pi^{2}n^{2}} }$$"
   ]
  },
  {
   "cell_type": "markdown",
   "metadata": {},
   "source": [
    "Запишем так же точный гамильтониан и уравнение Шрёдингера для задачи:\n",
    "$$\n",
    "\\hat{H} = \\hat{H}_{0} + \\hat{U}(x) + \\hat{\\mathcal{V}(x)}\n",
    "$$\n",
    "$$\n",
    "\\hat{H}\\left|\\psi_{n}(x)\\right> = E_{n}\\left|\\psi_{n}(x)\\right>\n",
    "$$\n",
    "Тогда на отрезке $(0,a)$:\n",
    "$$\n",
    "\\hat{H} = -\\frac{\\hbar^{2}}{2m}\\frac{\\partial^{2}}{\\partial x^{2}} + V_{0}x(x - a)\n",
    "$$\n",
    "$$\n",
    "-\\frac{\\hbar^{2}}{2m}\\frac{\\partial^{2}\\psi_{n}(x)}{\\partial x^{2}} + V_{0}x(x - a)\\psi_{n}(x) - E_{n}\\psi_{n}(x) = 0\n",
    "$$\n",
    "На это уравнение даётся два условия $\\psi_{n}(0) = \\psi_{n}(a) = 0$."
   ]
  },
  {
   "cell_type": "markdown",
   "metadata": {},
   "source": [
    "Для решения последнего уравнения воспользуемся методом конечной разности на конечном равномреном раздробленном отрезке, в согласии с ним:\n",
    "$$\n",
    "\\frac{\\partial^{2}\\psi}{\\partial x^{2}} = \\frac{\\psi(x_{i + 1}) - 2\\psi(x_{i}) + \\psi(x_{i - 1}) }{\\Delta x^{2}}\n",
    "$$\n",
    "Где $x_{i}$ -- точки разбиения отрезка, $\\Delta x = x_{i + 1} - x_{i}$. В решении для простоты будем полагать  $\\hbar = 1$ и $m = 1$."
   ]
  },
  {
   "cell_type": "code",
   "execution_count": 144,
   "metadata": {},
   "outputs": [],
   "source": [
    "def per(V0,a,b,x):\n",
    "    return V0*(x - a)*(x - b)\n",
    "def solveSE(a,V0,N,m = 1,h = 1):\n",
    "    dx = a/(N - 1) # находим шаг разбиения\n",
    "    xx = np.zeros(N)\n",
    "    for i in range(N - 1):\n",
    "        xx[i + 1] = xx[i] + dx # строим разбиение\n",
    "    V = np.diag(per(V0,0,a,xx)) # возмущение потенциала\n",
    "    low_diag = np.diag(np.ones(N-1),-1)\n",
    "    main_diag = np.diag(np.ones(N))\n",
    "    upper_diag = np.diag(np.ones(N-1),1)\n",
    "    d2dx2 = (low_diag - 2*main_diag + upper_diag)/(dx**2) # оператор производной\n",
    "    H = -(h**2)/(2*m)*d2dx2 + V # гамильтониан \n",
    "    En,psin = np.linalg.eigh(H) # собственные значения и функции гамильтониана\n",
    "    psi = np.transpose(psin) \n",
    "    return dx, xx, En, psi"
   ]
  },
  {
   "cell_type": "code",
   "execution_count": 151,
   "metadata": {},
   "outputs": [
    {
     "name": "stdout",
     "output_type": "stream",
     "text": [
      "-0.002144802298780739 -0.0014198600197377887 -0.0006313809438726519\n"
     ]
    }
   ],
   "source": [
    "a = 2.0 # ширина ямы\n",
    "N = 1000 # количество отрезков разбиения\n",
    "V0 = 1\n",
    "dx, x, En, psi = solveSE(a,V0,N,m = 1,h = 1)\n",
    "#0print(psi[0])\n",
    "print(E[0],E[1],E[2])"
   ]
  },
  {
   "cell_type": "code",
   "execution_count": 154,
   "metadata": {
    "scrolled": false
   },
   "outputs": [
    {
     "data": {
      "image/png": "[encoded data removed]",
      "text/plain": [
       "<Figure size 432x288 with 1 Axes>"
      ]
     },
     "metadata": {
      "needs_background": "light"
     },
     "output_type": "display_data"
    }
   ],
   "source": [
    "import matplotlib.pyplot as plt\n",
    "y = np.zeros(1000)\n",
    "y[0] = -0.3\n",
    "for i in range(999):\n",
    "    y[i + 1] = y[i] + 0.0005\n",
    "zero = np.zeros(1000)\n",
    "ax = np.zeros(1000)\n",
    "for i in range(1000):\n",
    "    ax[i] = a\n",
    "plt.figure()\n",
    "plt.plot(x,psi[0],label='Первое связанное состояние')\n",
    "plt.plot(x,psi[1],label='Второе связанное состояние')\n",
    "plt.plot(x,psi[3],label='Третье связанное состояние')\n",
    "plt.plot(zero,y,color= 'black')\n",
    "plt.plot(ax,y,color= 'black')\n",
    "plt.legend(loc = 'best')\n",
    "plt.show()"
   ]
  },
  {
   "cell_type": "markdown",
   "metadata": {},
   "source": [
    "Сравним основные состояния полученные программой и теорией возмущений."
   ]
  },
  {
   "cell_type": "code",
   "execution_count": 134,
   "metadata": {},
   "outputs": [
    {
     "data": {
      "text/plain": [
       "1.1467696467410355"
      ]
     },
     "execution_count": 134,
     "metadata": {},
     "output_type": "execute_result"
    }
   ],
   "source": [
    "def pertheorE(V0,a,n,h = 1, m = 1):\n",
    "    return (h**2)*(np.pi**2)*(n**2)/(2*m*(a**2)) - (a**2)*V0*(((np.pi*n)**2) + 3)/(6*(np.pi*n)**2)\n",
    "pertheorE(V0,a,1,h = 1, m = 1)"
   ]
  },
  {
   "cell_type": "code",
   "execution_count": null,
   "metadata": {},
   "outputs": [],
   "source": []
  }
 ],
 "metadata": {
  "kernelspec": {
   "display_name": "Python 3",
   "language": "python",
   "name": "python3"
  },
  "language_info": {
   "codemirror_mode": {
    "name": "ipython",
    "version": 3
   },
   "file_extension": ".py",
   "mimetype": "text/x-python",
   "name": "python",
   "nbconvert_exporter": "python",
   "pygments_lexer": "ipython3",
   "version": "3.7.1"
  }
 },
 "nbformat": 4,
 "nbformat_minor": 2
}
